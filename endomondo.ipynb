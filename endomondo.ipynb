{
 "cells": [
  {
   "cell_type": "code",
   "execution_count": 1,
   "metadata": {},
   "outputs": [],
   "source": [
    "import os\n",
    "import json\n",
    "import datetime\n",
    "import pandas as pd\n",
    "import matplotlib.pyplot as plt\n",
    "%matplotlib notebook"
   ]
  },
  {
   "cell_type": "code",
   "execution_count": 2,
   "metadata": {},
   "outputs": [],
   "source": [
    "w = []\n",
    "\n",
    "for file in os.listdir('Workouts'):\n",
    "    if file.endswith('.json'):\n",
    "        #print(file)\n",
    "        with open(f'Workouts/{file}') as json_file:\n",
    "            data = json.load(json_file)\n",
    "            name, sport, start_time, duration_s, distance_km = '', 0, '', 0, 0\n",
    "            for item in data:\n",
    "                if 'name' in item:\n",
    "                    name = item['name']\n",
    "                elif 'sport' in item:\n",
    "                    sport = item['sport']\n",
    "                elif 'start_time' in item:\n",
    "                    start_time = datetime.datetime.strptime(item['start_time'], '%Y-%m-%d %H:%M:%S.0')\n",
    "                elif 'duration_s' in item:\n",
    "                    duration_s = item['duration_s']\n",
    "                elif 'distance_km' in item:\n",
    "                    distance_km = item['distance_km']\n",
    "            w.append({'name':name,\n",
    "                      'sport':sport,\n",
    "                      'start_time':start_time,\n",
    "                      'duration_s':duration_s,\n",
    "                      'distance_km':distance_km})\n"
   ]
  },
  {
   "cell_type": "code",
   "execution_count": 3,
   "metadata": {},
   "outputs": [],
   "source": [
    "df = pd.DataFrame(w)"
   ]
  },
  {
   "cell_type": "code",
   "execution_count": 5,
   "metadata": {},
   "outputs": [
    {
     "data": {
      "text/plain": [
       "[<matplotlib.lines.Line2D at 0x7fa6233c0b10>]"
      ]
     },
     "execution_count": 5,
     "metadata": {},
     "output_type": "execute_result"
    },
    {
     "data": {
      "image/png": "[encoded data removed]",
      "text/plain": [
       "<Figure size 432x288 with 1 Axes>"
      ]
     },
     "metadata": {
      "needs_background": "light"
     },
     "output_type": "display_data"
    }
   ],
   "source": [
    "df.set_index(df['start_time'],inplace=True)\n",
    "d = df[df[\"sport\"]=='RUNNING'][\"distance_km\"].resample('Y').sum()\n",
    "plt.plot(d.index, d)"
   ]
  },
  {
   "cell_type": "code",
   "execution_count": null,
   "metadata": {},
   "outputs": [],
   "source": []
  }
 ],
 "metadata": {
  "kernelspec": {
   "display_name": "Python 3",
   "language": "python",
   "name": "python3"
  },
  "language_info": {
   "codemirror_mode": {
    "name": "ipython",
    "version": 3
   },
   "file_extension": ".py",
   "mimetype": "text/x-python",
   "name": "python",
   "nbconvert_exporter": "python",
   "pygments_lexer": "ipython3",
   "version": "3.7.4"
  }
 },
 "nbformat": 4,
 "nbformat_minor": 2
}
